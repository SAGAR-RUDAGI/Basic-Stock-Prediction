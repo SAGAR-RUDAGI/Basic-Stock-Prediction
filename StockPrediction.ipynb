{
  "nbformat": 4,
  "nbformat_minor": 0,
  "metadata": {
    "colab": {
      "name": "StockPrediction.ipynb",
      "provenance": [],
      "collapsed_sections": []
    },
    "kernelspec": {
      "name": "python3",
      "display_name": "Python 3"
    }
  },
  "cells": [
    {
      "cell_type": "code",
      "metadata": {
        "id": "XxUpO0XMwGZM",
        "colab_type": "code",
        "colab": {}
      },
      "source": [
        "# Stock Prediction using LSTM (- 60 days )( Apple Inc. )"
      ],
      "execution_count": 1,
      "outputs": []
    },
    {
      "cell_type": "code",
      "metadata": {
        "id": "oUZeZ4DkxaeS",
        "colab_type": "code",
        "colab": {}
      },
      "source": [
        "# Libraries\n",
        "import math\n",
        "import numpy as np\n",
        "import pandas_datareader as web\n",
        "import pandas as pd\n",
        "from sklearn.preprocessing import MinMaxScaler\n",
        "from keras.models import Sequential\n",
        "from keras.layers import Dense, LSTM\n",
        "import matplotlib.pyplot as plt\n",
        "plt.style.use('fivethirtyeight')"
      ],
      "execution_count": 26,
      "outputs": []
    },
    {
      "cell_type": "code",
      "metadata": {
        "id": "lrLY097GyNyH",
        "colab_type": "code",
        "colab": {
          "base_uri": "https://localhost:8080/",
          "height": 431
        },
        "outputId": "cb0b0a49-b77a-4f50-cc89-e55b0a194767"
      },
      "source": [
        "# Get the data\n",
        "df = web.DataReader('AAPL', data_source='yahoo', start='2013-01-01', end='2020-07-10')\n",
        "df"
      ],
      "execution_count": 5,
      "outputs": [
        {
          "output_type": "execute_result",
          "data": {
            "text/html": [
              "<div>\n",
              "<style scoped>\n",
              "    .dataframe tbody tr th:only-of-type {\n",
              "        vertical-align: middle;\n",
              "    }\n",
              "\n",
              "    .dataframe tbody tr th {\n",
              "        vertical-align: top;\n",
              "    }\n",
              "\n",
              "    .dataframe thead th {\n",
              "        text-align: right;\n",
              "    }\n",
              "</style>\n",
              "<table border=\"1\" class=\"dataframe\">\n",
              "  <thead>\n",
              "    <tr style=\"text-align: right;\">\n",
              "      <th></th>\n",
              "      <th>High</th>\n",
              "      <th>Low</th>\n",
              "      <th>Open</th>\n",
              "      <th>Close</th>\n",
              "      <th>Volume</th>\n",
              "      <th>Adj Close</th>\n",
              "    </tr>\n",
              "    <tr>\n",
              "      <th>Date</th>\n",
              "      <th></th>\n",
              "      <th></th>\n",
              "      <th></th>\n",
              "      <th></th>\n",
              "      <th></th>\n",
              "      <th></th>\n",
              "    </tr>\n",
              "  </thead>\n",
              "  <tbody>\n",
              "    <tr>\n",
              "      <th>2013-01-02</th>\n",
              "      <td>79.285713</td>\n",
              "      <td>77.375717</td>\n",
              "      <td>79.117142</td>\n",
              "      <td>78.432854</td>\n",
              "      <td>140129500.0</td>\n",
              "      <td>68.502106</td>\n",
              "    </tr>\n",
              "    <tr>\n",
              "      <th>2013-01-03</th>\n",
              "      <td>78.524284</td>\n",
              "      <td>77.285713</td>\n",
              "      <td>78.268570</td>\n",
              "      <td>77.442856</td>\n",
              "      <td>88241300.0</td>\n",
              "      <td>67.637436</td>\n",
              "    </tr>\n",
              "    <tr>\n",
              "      <th>2013-01-04</th>\n",
              "      <td>76.947144</td>\n",
              "      <td>75.118568</td>\n",
              "      <td>76.709999</td>\n",
              "      <td>75.285713</td>\n",
              "      <td>148583400.0</td>\n",
              "      <td>65.753418</td>\n",
              "    </tr>\n",
              "    <tr>\n",
              "      <th>2013-01-07</th>\n",
              "      <td>75.614288</td>\n",
              "      <td>73.599998</td>\n",
              "      <td>74.571426</td>\n",
              "      <td>74.842857</td>\n",
              "      <td>121039100.0</td>\n",
              "      <td>65.366646</td>\n",
              "    </tr>\n",
              "    <tr>\n",
              "      <th>2013-01-08</th>\n",
              "      <td>75.984283</td>\n",
              "      <td>74.464287</td>\n",
              "      <td>75.601425</td>\n",
              "      <td>75.044289</td>\n",
              "      <td>114676800.0</td>\n",
              "      <td>65.542587</td>\n",
              "    </tr>\n",
              "    <tr>\n",
              "      <th>...</th>\n",
              "      <td>...</td>\n",
              "      <td>...</td>\n",
              "      <td>...</td>\n",
              "      <td>...</td>\n",
              "      <td>...</td>\n",
              "      <td>...</td>\n",
              "    </tr>\n",
              "    <tr>\n",
              "      <th>2020-07-06</th>\n",
              "      <td>375.779999</td>\n",
              "      <td>369.869995</td>\n",
              "      <td>370.000000</td>\n",
              "      <td>373.850006</td>\n",
              "      <td>29663900.0</td>\n",
              "      <td>373.850006</td>\n",
              "    </tr>\n",
              "    <tr>\n",
              "      <th>2020-07-07</th>\n",
              "      <td>378.619995</td>\n",
              "      <td>372.230011</td>\n",
              "      <td>375.410004</td>\n",
              "      <td>372.690002</td>\n",
              "      <td>28106100.0</td>\n",
              "      <td>372.690002</td>\n",
              "    </tr>\n",
              "    <tr>\n",
              "      <th>2020-07-08</th>\n",
              "      <td>381.500000</td>\n",
              "      <td>376.359985</td>\n",
              "      <td>376.720001</td>\n",
              "      <td>381.369995</td>\n",
              "      <td>29273000.0</td>\n",
              "      <td>381.369995</td>\n",
              "    </tr>\n",
              "    <tr>\n",
              "      <th>2020-07-09</th>\n",
              "      <td>385.269989</td>\n",
              "      <td>378.690002</td>\n",
              "      <td>385.049988</td>\n",
              "      <td>383.010010</td>\n",
              "      <td>31410700.0</td>\n",
              "      <td>383.010010</td>\n",
              "    </tr>\n",
              "    <tr>\n",
              "      <th>2020-07-10</th>\n",
              "      <td>383.920013</td>\n",
              "      <td>378.820007</td>\n",
              "      <td>381.339996</td>\n",
              "      <td>383.679993</td>\n",
              "      <td>22534100.0</td>\n",
              "      <td>383.679993</td>\n",
              "    </tr>\n",
              "  </tbody>\n",
              "</table>\n",
              "<p>1894 rows × 6 columns</p>\n",
              "</div>"
            ],
            "text/plain": [
              "                  High         Low  ...       Volume   Adj Close\n",
              "Date                                ...                         \n",
              "2013-01-02   79.285713   77.375717  ...  140129500.0   68.502106\n",
              "2013-01-03   78.524284   77.285713  ...   88241300.0   67.637436\n",
              "2013-01-04   76.947144   75.118568  ...  148583400.0   65.753418\n",
              "2013-01-07   75.614288   73.599998  ...  121039100.0   65.366646\n",
              "2013-01-08   75.984283   74.464287  ...  114676800.0   65.542587\n",
              "...                ...         ...  ...          ...         ...\n",
              "2020-07-06  375.779999  369.869995  ...   29663900.0  373.850006\n",
              "2020-07-07  378.619995  372.230011  ...   28106100.0  372.690002\n",
              "2020-07-08  381.500000  376.359985  ...   29273000.0  381.369995\n",
              "2020-07-09  385.269989  378.690002  ...   31410700.0  383.010010\n",
              "2020-07-10  383.920013  378.820007  ...   22534100.0  383.679993\n",
              "\n",
              "[1894 rows x 6 columns]"
            ]
          },
          "metadata": {
            "tags": []
          },
          "execution_count": 5
        }
      ]
    },
    {
      "cell_type": "code",
      "metadata": {
        "id": "YGLuH1SWy5CZ",
        "colab_type": "code",
        "colab": {
          "base_uri": "https://localhost:8080/",
          "height": 34
        },
        "outputId": "d1a1d315-16ed-44bb-ef58-2e20ce6658b3"
      },
      "source": [
        "df.shape"
      ],
      "execution_count": 6,
      "outputs": [
        {
          "output_type": "execute_result",
          "data": {
            "text/plain": [
              "(1894, 6)"
            ]
          },
          "metadata": {
            "tags": []
          },
          "execution_count": 6
        }
      ]
    },
    {
      "cell_type": "code",
      "metadata": {
        "id": "UF9A3np22JTz",
        "colab_type": "code",
        "colab": {
          "base_uri": "https://localhost:8080/",
          "height": 521
        },
        "outputId": "a8c5c593-7968-4d32-dccb-442aa1f2c916"
      },
      "source": [
        "# Visualize the closing price\n",
        "\n",
        "plt.figure(figsize=(16,8))\n",
        "plt.title('Closing Price History')\n",
        "plt.plot(df['Close'])\n",
        "plt.xlabel('Date', fontsize=18)\n",
        "plt.ylabel('Close Price USD ($)', fontsize=18)\n",
        "plt.show()"
      ],
      "execution_count": 8,
      "outputs": [
        {
          "output_type": "display_data",
          "data": {
            "image/png": "[encoded data removed]",
            "text/plain": [
              "<Figure size 1152x576 with 1 Axes>"
            ]
          },
          "metadata": {
            "tags": []
          }
        }
      ]
    },
    {
      "cell_type": "code",
      "metadata": {
        "id": "_EFO5rfj24kN",
        "colab_type": "code",
        "colab": {}
      },
      "source": [
        "# Take only the 'Close' Column\n",
        "data = df.filter(items=['Close'])\n",
        "# Convert to numpy array\n",
        "dataset = data.values\n",
        "\n",
        "training_data_len = math.ceil(len(dataset) * .8) # 80% of the data to train\n"
      ],
      "execution_count": 11,
      "outputs": []
    },
    {
      "cell_type": "code",
      "metadata": {
        "id": "9eVJfunS7q9I",
        "colab_type": "code",
        "colab": {
          "base_uri": "https://localhost:8080/",
          "height": 134
        },
        "outputId": "facfcff5-2c81-4650-94cc-8bd63b000de6"
      },
      "source": [
        "# Scale the data\n",
        "scaler = MinMaxScaler(feature_range=(0,1))\n",
        "scaled_data =  scaler.fit_transform(dataset)\n",
        "\n",
        "scaled_data"
      ],
      "execution_count": 12,
      "outputs": [
        {
          "output_type": "execute_result",
          "data": {
            "text/plain": [
              "array([[0.06905625],\n",
              "       [0.06603695],\n",
              "       [0.05945809],\n",
              "       ...,\n",
              "       [0.99295496],\n",
              "       [0.99795668],\n",
              "       [1.        ]])"
            ]
          },
          "metadata": {
            "tags": []
          },
          "execution_count": 12
        }
      ]
    },
    {
      "cell_type": "code",
      "metadata": {
        "id": "C4JgaVd88HAc",
        "colab_type": "code",
        "colab": {
          "base_uri": "https://localhost:8080/",
          "height": 252
        },
        "outputId": "2478a893-deb2-447e-81c0-94400907f782"
      },
      "source": [
        "# Create a training data set and scale it\n",
        "train_data = scaled_data[0:training_data_len,:]\n",
        "# Split into x_train and y_train\n",
        "x_train, y_train = [], []\n",
        "\n",
        "for i in range(60, len(train_data)):\n",
        "  x_train.append(train_data[i-60:i, 0])\n",
        "  y_train.append(train_data[i, 0])\n",
        "\n",
        "  if i<=60:\n",
        "    print(x_train)\n",
        "    print(y_train)\n",
        "    print()"
      ],
      "execution_count": 13,
      "outputs": [
        {
          "output_type": "stream",
          "text": [
            "[array([0.06905625, 0.06603695, 0.05945809, 0.05810747, 0.05872179,\n",
            "       0.0551448 , 0.05793754, 0.05653901, 0.04845702, 0.04156011,\n",
            "       0.05034789, 0.04886221, 0.04769457, 0.04977279, 0.05379853,\n",
            "       0.02612809, 0.02150111, 0.02583619, 0.02951337, 0.02888599,\n",
            "       0.02830217, 0.02748744, 0.02256419, 0.02932604, 0.02911255,\n",
            "       0.03384846, 0.0367937 , 0.03895035, 0.03370904, 0.03332128,\n",
            "       0.03313829, 0.03033683, 0.03026277, 0.02540922, 0.02419366,\n",
            "       0.02626316, 0.02277331, 0.0254615 , 0.02354447, 0.02216336,\n",
            "       0.01740131, 0.01286145, 0.01769321, 0.01530565, 0.01744923,\n",
            "       0.01794591, 0.02062538, 0.0165125 , 0.01647765, 0.01828574,\n",
            "       0.02314801, 0.02840239, 0.02786648, 0.02681648, 0.02709967,\n",
            "       0.03109928, 0.03182688, 0.0307638 , 0.02681648, 0.02271232])]\n",
            "[0.016721634963769272]\n",
            "\n"
          ],
          "name": "stdout"
        }
      ]
    },
    {
      "cell_type": "code",
      "metadata": {
        "id": "h0A7eR2X-koO",
        "colab_type": "code",
        "colab": {}
      },
      "source": [
        "# Convert both to numpy arrays\n",
        "x_train, y_train = np.array(x_train), np.array(y_train)"
      ],
      "execution_count": 14,
      "outputs": []
    },
    {
      "cell_type": "code",
      "metadata": {
        "id": "wV9WD3TyCczs",
        "colab_type": "code",
        "colab": {
          "base_uri": "https://localhost:8080/",
          "height": 34
        },
        "outputId": "0be41ec9-a863-4b1b-c704-d3258a18bdb6"
      },
      "source": [
        "#Reshape the data\n",
        "x_train = np.reshape(x_train, (x_train.shape[0], x_train.shape[1], 1))\n",
        "x_train.shape"
      ],
      "execution_count": 15,
      "outputs": [
        {
          "output_type": "execute_result",
          "data": {
            "text/plain": [
              "(1456, 60, 1)"
            ]
          },
          "metadata": {
            "tags": []
          },
          "execution_count": 15
        }
      ]
    },
    {
      "cell_type": "code",
      "metadata": {
        "id": "4fRLZioYCnno",
        "colab_type": "code",
        "colab": {}
      },
      "source": [
        "# Build LSTM model\n",
        "model = Sequential()\n",
        "model.add(LSTM(50, return_sequences=True, input_shape=(x_train.shape[1], 1)))\n",
        "model.add(LSTM(50, return_sequences=False))\n",
        "model.add(Dense(25))\n",
        "model.add(Dense(1))"
      ],
      "execution_count": 16,
      "outputs": []
    },
    {
      "cell_type": "code",
      "metadata": {
        "id": "mRcYjnyhFX3P",
        "colab_type": "code",
        "colab": {}
      },
      "source": [
        "#Compile the model\n",
        "model.compile(optimizer='adam', loss='mean_squared_error')"
      ],
      "execution_count": 17,
      "outputs": []
    },
    {
      "cell_type": "code",
      "metadata": {
        "id": "980G2Y21Fi61",
        "colab_type": "code",
        "colab": {
          "base_uri": "https://localhost:8080/",
          "height": 67
        },
        "outputId": "244f6295-5591-4680-e1c2-fa5acff1e21e"
      },
      "source": [
        "# Train the model\n",
        "model.fit(x_train, y_train, batch_size=1, epochs=1)"
      ],
      "execution_count": 18,
      "outputs": [
        {
          "output_type": "stream",
          "text": [
            "Epoch 1/1\n",
            "1456/1456 [==============================] - 47s 32ms/step - loss: 6.5402e-04\n"
          ],
          "name": "stdout"
        },
        {
          "output_type": "execute_result",
          "data": {
            "text/plain": [
              "<keras.callbacks.callbacks.History at 0x7f58da6d3400>"
            ]
          },
          "metadata": {
            "tags": []
          },
          "execution_count": 18
        }
      ]
    },
    {
      "cell_type": "code",
      "metadata": {
        "id": "hmwWfgkkFvIn",
        "colab_type": "code",
        "colab": {}
      },
      "source": [
        "# Create the test set\n",
        "test_data = scaled_data[training_data_len - 60:, :]\n",
        "# Create x_test and y_test\n",
        "x_test = []\n",
        "y_test = dataset[training_data_len:, :]\n",
        "for i in range(60, len(test_data)):\n",
        "  x_test.append(test_data[i-60:i,0])\n"
      ],
      "execution_count": 20,
      "outputs": []
    },
    {
      "cell_type": "code",
      "metadata": {
        "id": "IsxXg7jdGxOs",
        "colab_type": "code",
        "colab": {}
      },
      "source": [
        "# Convert to numpy array\n",
        "x_test = np.array(x_test)"
      ],
      "execution_count": 21,
      "outputs": []
    },
    {
      "cell_type": "code",
      "metadata": {
        "id": "4mjd9zuFG8d_",
        "colab_type": "code",
        "colab": {}
      },
      "source": [
        "# Reshape the data\n",
        "x_test = np.reshape(x_test, (x_test.shape[0], x_test.shape[1], 1))"
      ],
      "execution_count": 22,
      "outputs": []
    },
    {
      "cell_type": "code",
      "metadata": {
        "id": "2BdiAXy9HPAi",
        "colab_type": "code",
        "colab": {}
      },
      "source": [
        "# Get the models predicted price values\n",
        "preds = model.predict(x_test)\n",
        "preds = scaler.inverse_transform(preds)"
      ],
      "execution_count": 23,
      "outputs": []
    },
    {
      "cell_type": "code",
      "metadata": {
        "id": "XeqPyEOYHr_S",
        "colab_type": "code",
        "colab": {
          "base_uri": "https://localhost:8080/",
          "height": 34
        },
        "outputId": "27db13e4-99c1-4cec-bed6-2e0a1d98b63c"
      },
      "source": [
        "# Get the root mean squared error (RMSE)\n",
        "rmse = np.sqrt(np.mean(((preds- y_test)**2)))\n",
        "rmse"
      ],
      "execution_count": 24,
      "outputs": [
        {
          "output_type": "execute_result",
          "data": {
            "text/plain": [
              "8.048380510004103"
            ]
          },
          "metadata": {
            "tags": []
          },
          "execution_count": 24
        }
      ]
    },
    {
      "cell_type": "code",
      "metadata": {
        "id": "OPnNKY7VIE00",
        "colab_type": "code",
        "colab": {
          "base_uri": "https://localhost:8080/",
          "height": 659
        },
        "outputId": "2251a6e5-4cd8-461d-f723-dfc550a4c681"
      },
      "source": [
        "# Plot the data\n",
        "train = data[:training_data_len]\n",
        "valid = data[training_data_len:]\n",
        "valid['Predictions'] = preds\n",
        "\n",
        "# Visualize the data\n",
        "plt.figure(figsize=(16,8))\n",
        "plt.title('Model')\n",
        "plt.xlabel('Date', fontsize=18)\n",
        "plt.ylabel('Closing Price USD ($) ', fontsize=18)\n",
        "plt.plot(train['Close'])\n",
        "plt.plot(valid[['Close', 'Predictions']])\n",
        "plt.legend(['Train', 'Val', 'Predictions'], loc='lower right')\n",
        "plt.show()"
      ],
      "execution_count": 29,
      "outputs": [
        {
          "output_type": "stream",
          "text": [
            "/usr/local/lib/python3.6/dist-packages/ipykernel_launcher.py:4: SettingWithCopyWarning: \n",
            "A value is trying to be set on a copy of a slice from a DataFrame.\n",
            "Try using .loc[row_indexer,col_indexer] = value instead\n",
            "\n",
            "See the caveats in the documentation: https://pandas.pydata.org/pandas-docs/stable/user_guide/indexing.html#returning-a-view-versus-a-copy\n",
            "  after removing the cwd from sys.path.\n"
          ],
          "name": "stderr"
        },
        {
          "output_type": "display_data",
          "data": {
            "image/png": "[encoded data removed]",
            "text/plain": [
              "<Figure size 1152x576 with 1 Axes>"
            ]
          },
          "metadata": {
            "tags": []
          }
        }
      ]
    },
    {
      "cell_type": "code",
      "metadata": {
        "id": "3Hf66pFcJZAc",
        "colab_type": "code",
        "colab": {
          "base_uri": "https://localhost:8080/",
          "height": 431
        },
        "outputId": "92786357-5101-440e-e76c-fd7c3122403b"
      },
      "source": [
        "valid"
      ],
      "execution_count": 30,
      "outputs": [
        {
          "output_type": "execute_result",
          "data": {
            "text/html": [
              "<div>\n",
              "<style scoped>\n",
              "    .dataframe tbody tr th:only-of-type {\n",
              "        vertical-align: middle;\n",
              "    }\n",
              "\n",
              "    .dataframe tbody tr th {\n",
              "        vertical-align: top;\n",
              "    }\n",
              "\n",
              "    .dataframe thead th {\n",
              "        text-align: right;\n",
              "    }\n",
              "</style>\n",
              "<table border=\"1\" class=\"dataframe\">\n",
              "  <thead>\n",
              "    <tr style=\"text-align: right;\">\n",
              "      <th></th>\n",
              "      <th>Close</th>\n",
              "      <th>Predictions</th>\n",
              "    </tr>\n",
              "    <tr>\n",
              "      <th>Date</th>\n",
              "      <th></th>\n",
              "      <th></th>\n",
              "    </tr>\n",
              "  </thead>\n",
              "  <tbody>\n",
              "    <tr>\n",
              "      <th>2019-01-10</th>\n",
              "      <td>153.800003</td>\n",
              "      <td>153.301865</td>\n",
              "    </tr>\n",
              "    <tr>\n",
              "      <th>2019-01-11</th>\n",
              "      <td>152.289993</td>\n",
              "      <td>153.489288</td>\n",
              "    </tr>\n",
              "    <tr>\n",
              "      <th>2019-01-14</th>\n",
              "      <td>150.000000</td>\n",
              "      <td>153.736099</td>\n",
              "    </tr>\n",
              "    <tr>\n",
              "      <th>2019-01-15</th>\n",
              "      <td>153.070007</td>\n",
              "      <td>153.765671</td>\n",
              "    </tr>\n",
              "    <tr>\n",
              "      <th>2019-01-16</th>\n",
              "      <td>154.940002</td>\n",
              "      <td>153.994507</td>\n",
              "    </tr>\n",
              "    <tr>\n",
              "      <th>...</th>\n",
              "      <td>...</td>\n",
              "      <td>...</td>\n",
              "    </tr>\n",
              "    <tr>\n",
              "      <th>2020-07-06</th>\n",
              "      <td>373.850006</td>\n",
              "      <td>363.777435</td>\n",
              "    </tr>\n",
              "    <tr>\n",
              "      <th>2020-07-07</th>\n",
              "      <td>372.690002</td>\n",
              "      <td>365.494385</td>\n",
              "    </tr>\n",
              "    <tr>\n",
              "      <th>2020-07-08</th>\n",
              "      <td>381.369995</td>\n",
              "      <td>367.282440</td>\n",
              "    </tr>\n",
              "    <tr>\n",
              "      <th>2020-07-09</th>\n",
              "      <td>383.010010</td>\n",
              "      <td>369.962799</td>\n",
              "    </tr>\n",
              "    <tr>\n",
              "      <th>2020-07-10</th>\n",
              "      <td>383.679993</td>\n",
              "      <td>372.915070</td>\n",
              "    </tr>\n",
              "  </tbody>\n",
              "</table>\n",
              "<p>378 rows × 2 columns</p>\n",
              "</div>"
            ],
            "text/plain": [
              "                 Close  Predictions\n",
              "Date                               \n",
              "2019-01-10  153.800003   153.301865\n",
              "2019-01-11  152.289993   153.489288\n",
              "2019-01-14  150.000000   153.736099\n",
              "2019-01-15  153.070007   153.765671\n",
              "2019-01-16  154.940002   153.994507\n",
              "...                ...          ...\n",
              "2020-07-06  373.850006   363.777435\n",
              "2020-07-07  372.690002   365.494385\n",
              "2020-07-08  381.369995   367.282440\n",
              "2020-07-09  383.010010   369.962799\n",
              "2020-07-10  383.679993   372.915070\n",
              "\n",
              "[378 rows x 2 columns]"
            ]
          },
          "metadata": {
            "tags": []
          },
          "execution_count": 30
        }
      ]
    },
    {
      "cell_type": "code",
      "metadata": {
        "id": "8B5SAt75KUm6",
        "colab_type": "code",
        "colab": {
          "base_uri": "https://localhost:8080/",
          "height": 34
        },
        "outputId": "b87c2413-ee1e-41c0-e810-8d756eef18a6"
      },
      "source": [
        "apple_quote = web.DataReader('AAPL', data_source='yahoo', start='2013-01-01', end='2020-07-10')\n",
        "\n",
        "new_df = apple_quote.filter(['Close'])\n",
        "\n",
        "# Get the last 60 days closing price\n",
        "last_60_days = new_df[-60:].values\n",
        "\n",
        "# Scale the data\n",
        "last_60_days_scaled = scaler.transform(last_60_days)\n",
        "\n",
        "X_test = []\n",
        "\n",
        "X_test.append(last_60_days_scaled)\n",
        "X_test = np.array(X_test)\n",
        "X_test = np.reshape(X_test, (X_test.shape[0],X_test.shape[1],1))\n",
        "\n",
        "# Get the predicted scaled price\n",
        "pred_price = model.predict(X_test) \n",
        "# Inverse Scale\n",
        "pred_price = scaler.inverse_transform(pred_price)\n",
        "print(pred_price)"
      ],
      "execution_count": 31,
      "outputs": [
        {
          "output_type": "stream",
          "text": [
            "[[375.7604]]\n"
          ],
          "name": "stdout"
        }
      ]
    },
    {
      "cell_type": "code",
      "metadata": {
        "id": "GtjoCHRyMZ95",
        "colab_type": "code",
        "colab": {
          "base_uri": "https://localhost:8080/",
          "height": 67
        },
        "outputId": "cb0a0426-cda0-45f2-81fa-aa6703d56298"
      },
      "source": [
        "apple_quote2 = web.DataReader('AAPL', data_source='yahoo', start='2020-07-11', end='2020-07-11')\n",
        "print(apple_quote2['Close'])"
      ],
      "execution_count": 32,
      "outputs": [
        {
          "output_type": "stream",
          "text": [
            "Date\n",
            "2020-07-10    383.679993\n",
            "Name: Close, dtype: float64\n"
          ],
          "name": "stdout"
        }
      ]
    },
    {
      "cell_type": "code",
      "metadata": {
        "id": "-yYWP82aMqnT",
        "colab_type": "code",
        "colab": {}
      },
      "source": [
        ""
      ],
      "execution_count": null,
      "outputs": []
    }
  ]
}